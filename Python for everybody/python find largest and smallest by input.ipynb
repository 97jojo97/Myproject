{
  "cells": [
    {
      "cell_type": "code",
      "execution_count": 1,
      "metadata": {
        "trusted": true
      },
      "outputs": [],
      "source": []
    },
    {
      "cell_type": "code",
      "execution_count": null,
      "metadata": {},
      "outputs": [],
      "source": [
        "largest=None\n",
        "smallest=None\n",
        "while True:\n",
        "    num=input('Enter a number')\n",
        "    if num=='done':\n",
        "        break\n",
        "    try:\n",
        "        fval=int(num)\n",
        "    except:\n",
        "        print('Invalid Input')\n",
        "    if largest is None:\n",
        "        largest= fval\n",
        "    elif fval >largest:\n",
        "        largest=fval\n",
        "    if smallest is None:\n",
        "        smallest=fval\n",
        "    elif fval< smallest:\n",
        "        smallest = fval\n",
        "\n",
        "print('Maximum','is',largest)\n",
        "print('Minimum','is',smallest)"
      ]
    },
    {
      "cell_type": "code",
      "execution_count": null,
      "metadata": {},
      "outputs": [],
      "source": [
        "#read file and print uppercase without \\n\n",
        "fname = input(\"Enter file name: \")\n",
        "fh = open(fname)\n",
        "for line in fh:\n",
        "    line=line.rstrip()\n",
        "    if not line.startswith(' '):\n",
        "        \n",
        "        print(line.upper())\n"
      ]
    }
  ],
  "metadata": {
    "anaconda-cloud": {},
    "kernelspec": {
      "display_name": "Python (Pyodide)",
      "language": "python",
      "name": "python"
    },
    "language_info": {
      "codemirror_mode": {
        "name": "python",
        "version": 3
      },
      "file_extension": ".py",
      "mimetype": "text/x-python",
      "name": "python",
      "nbconvert_exporter": "python",
      "pygments_lexer": "ipython3",
      "version": "3.8"
    }
  },
  "nbformat": 4,
  "nbformat_minor": 4
}
