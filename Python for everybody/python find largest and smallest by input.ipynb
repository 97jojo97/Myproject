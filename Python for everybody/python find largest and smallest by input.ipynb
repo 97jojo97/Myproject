{
  "cells": [
    {
      "cell_type": "code",
      "execution_count": 1,
      "metadata": {
        "trusted": true
      },
      "outputs": [],
      "source": []
    },
    {
      "cell_type": "code",
      "execution_count": null,
      "metadata": {},
      "outputs": [],
      "source": [
        "largest=None\n",
        "smallest=None\n",
        "while True:\n",
        "    num=input('Enter a number')\n",
        "    if num=='done':\n",
        "        break\n",
        "    try:\n",
        "        fval=int(num)\n",
        "    except:\n",
        "        print('Invalid Input')\n",
        "    if largest is None:\n",
        "        largest= fval\n",
        "    elif fval >largest:\n",
        "        largest=fval\n",
        "    if smallest is None:\n",
        "        smallest=fval\n",
        "    elif fval< smallest:\n",
        "        smallest = fval\n",
        "\n",
        "print('Maximum','is',largest)\n",
        "print('Minimum','is',smallest)"
      ]
    },
    {
      "cell_type": "code",
      "execution_count": null,
      "metadata": {},
      "outputs": [],
      "source": [
        "#read file and print uppercase without \\n\n",
        "fname = input(\"Enter file name: \")\n",
        "fh = open(fname)\n",
        "for line in fh:\n",
        "    line=line.rstrip()\n",
        "    if not line.startswith(' '):\n",
        "        \n",
        "        print(line.upper())\n"
      ]
    },
    {
      "cell_type": "code",
      "execution_count": null,
      "metadata": {},
      "outputs": [],
      "source": [
        "'''\n",
        "7.2 Write a program that prompts for a file name, then opens that file and reads through the file, looking for lines of the form:\n",
        "X-DSPAM-Confidence:    0.8475\n",
        "Count these lines and extract the floating point values from each of the lines and compute the average of those values and produce an output as shown below. Do not use the sum() function or a variable named sum in your solution.\n",
        "You can download the sample data at http://www.py4e.com/code3/mbox-short.txt when you are testing below enter mbox-short.txt as the file name.\n",
        "'''\n",
        "# Use the file name mbox-short.txt as the file name\n",
        "fname = input(\"Enter file name: \")\n",
        "fh = open(fname)\n",
        "total=0\n",
        "count=0\n",
        "for line in fh:\n",
        "    if not line.startswith(\"X-DSPAM-Confidence:\"):\n",
        "        continue\n",
        "    \n",
        "    total=total+float(line[20:])\n",
        "    count=count+1\n",
        "ave=total/count    \n",
        "\n",
        "print('Average spam confidence: '+ str(ave))"
      ]
    }
  ],
  "metadata": {
    "anaconda-cloud": {},
    "kernelspec": {
      "display_name": "Python (Pyodide)",
      "language": "python",
      "name": "python"
    },
    "language_info": {
      "codemirror_mode": {
        "name": "python",
        "version": 3
      },
      "file_extension": ".py",
      "mimetype": "text/x-python",
      "name": "python",
      "nbconvert_exporter": "python",
      "pygments_lexer": "ipython3",
      "version": "3.8"
    }
  },
  "nbformat": 4,
  "nbformat_minor": 4
}
