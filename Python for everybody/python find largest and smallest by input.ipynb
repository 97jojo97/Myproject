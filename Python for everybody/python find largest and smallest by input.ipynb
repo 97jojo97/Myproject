{
  "cells": [
    {
      "cell_type": "code",
      "execution_count": 1,
      "metadata": {
        "trusted": true
      },
      "outputs": [],
      "source": []
    },
    {
      "cell_type": "code",
      "execution_count": null,
      "metadata": {},
      "outputs": [],
      "source": [
        "largest=None\n",
        "smallest=None\n",
        "while True:\n",
        "    num=input('Enter a number')\n",
        "    if num=='done':\n",
        "        break\n",
        "    try:\n",
        "        fval=int(num)\n",
        "    except:\n",
        "        print('Invalid Input')\n",
        "    if largest is None:\n",
        "        largest= fval\n",
        "    elif fval >largest:\n",
        "        largest=fval\n",
        "    if smallest is None:\n",
        "        smallest=fval\n",
        "    elif fval< smallest:\n",
        "        smallest = fval\n",
        "\n",
        "print('Maximum','is',largest)\n",
        "print('Minimum','is',smallest)"
      ]
    },
    {
      "cell_type": "code",
      "execution_count": null,
      "metadata": {},
      "outputs": [],
      "source": [
        "#read file and print uppercase without \\n\n",
        "fname = input(\"Enter file name: \")\n",
        "fh = open(fname)\n",
        "for line in fh:\n",
        "    line=line.rstrip()\n",
        "    if not line.startswith(' '):\n",
        "        \n",
        "        print(line.upper())\n"
      ]
    },
    {
      "cell_type": "code",
      "execution_count": null,
      "metadata": {},
      "outputs": [],
      "source": [
        "'''\n",
        "7.2 Write a program that prompts for a file name, then opens that file and reads through the file, looking for lines of the form:\n",
        "X-DSPAM-Confidence:    0.8475\n",
        "Count these lines and extract the floating point values from each of the lines and compute the average of those values and produce an output as shown below. Do not use the sum() function or a variable named sum in your solution.\n",
        "You can download the sample data at http://www.py4e.com/code3/mbox-short.txt when you are testing below enter mbox-short.txt as the file name.\n",
        "'''\n",
        "# Use the file name mbox-short.txt as the file name\n",
        "fname = input(\"Enter file name: \")\n",
        "fh = open(fname)\n",
        "total=0\n",
        "count=0\n",
        "for line in fh:\n",
        "    if not line.startswith(\"X-DSPAM-Confidence:\"):\n",
        "        continue\n",
        "    \n",
        "    total=total+float(line[20:])\n",
        "    count=count+1\n",
        "ave=total/count    \n",
        "\n",
        "print('Average spam confidence: '+ str(ave))"
      ]
    },
    {
      "cell_type": "code",
      "execution_count": null,
      "metadata": {},
      "outputs": [],
      "source": [
        "'''\n",
        "8.4 Open the file romeo.txt and read it line by line. For each line, split the line into a list of words using the split() method. The program should build a list of words. For each word on each line check to see if the word is already in the list and if not append it to the list. When the program completes, sort and print the resulting words in python sort() order as shown in the desired output.\n",
        "You can download the sample data at http://www.py4e.com/code3/romeo.txt\n",
        "'''\n",
        "fname = input(\"Enter file name: \")\n",
        "fh = open(fname)\n",
        "lst = list()\n",
        "for line in fh:\n",
        "    \n",
        "    word=line.split()\n",
        "    for each in word:\n",
        "        if each not in lst:\n",
        "        \n",
        "            lst.append(each)\n",
        "   \n",
        "    \n",
        "lst.sort()\n",
        "print(lst)\n"
      ]
    },
    {
      "cell_type": "code",
      "execution_count": null,
      "metadata": {},
      "outputs": [],
      "source": [
        "'''8.5 Open the file mbox-short.txt and read it line by line. When you find a line that starts with 'From ' like the following line:\n",
        "From stephen.marquard@uct.ac.za Sat Jan  5 09:14:16 2008\n",
        "You will parse the From line using split() and print out the second word in the line (i.e. the entire address of the person who sent the message). Then print out a count at the end.\n",
        "Hint: make sure not to include the lines that start with 'From:'. Also look at the last line of the sample output to see how to print the count.\n",
        "\n",
        "You can download the sample data at http://www.py4e.com/code3/mbox-short.txt\n",
        "'''\n",
        "fname = input(\"Enter file name: \")\n",
        "\n",
        "\n",
        "\n",
        "fh = open(fname)\n",
        "count = 0\n",
        "for line in fh:\n",
        "    line=line.rstrip()\n",
        "    wds=line.split()\n",
        "    if len(wds)<1:\n",
        "        continue\n",
        "    if wds[0] !='From':\n",
        "        \n",
        "        continue\n",
        "    print(wds[1])\n",
        "    count+=1    \n",
        "       \n",
        "print(\"There were\", count, \"lines in the file with From as the first word\")\n"
      ]
    },
    {
      "cell_type": "code",
      "execution_count": null,
      "metadata": {},
      "outputs": [],
      "source": [
        "Using Python to Access Web Data_W4_Assignment: Following Links in HTML Using BeautifulSoup\n",
        "\n",
        "import urllib.request, urllib.parse, urllib.error\n",
        "from bs4 import BeautifulSoup\n",
        "import ssl\n",
        "ctx=ssl.create_default_context()\n",
        "ctx.check_hostname=False\n",
        "ctx.verify_mode=ssl.CERT_NONE\n",
        "\n",
        "url=input('Enter url')\n",
        "count_for_loop=int(input('enter number of count'))\n",
        "repetition_for_loop= int(input('enter number of repetitive time'))\n",
        "\n",
        "count=0\n",
        "repetitive=0\n",
        "print(url)\n",
        "for i in range(0,repetition_for_loop):\n",
        "  html=urllib.request.urlopen(url,context=ctx).read()\n",
        "  soup=BeautifulSoup(html,'html.parser')\n",
        "  tags=soup('a')\n",
        "\n",
        "  for tag in tags:\n",
        "  \n",
        "    count+=1\n",
        "    if count==count_for_loop:\n",
        "      new_link=tag.get('href',None)\n",
        "      print(new_link)\n",
        "\n",
        "      url=new_link\n",
        "      count=0\n",
        "      break\n",
        "    "
      ]
    }
  ],
  "metadata": {
    "anaconda-cloud": {},
    "kernelspec": {
      "display_name": "Python (Pyodide)",
      "language": "python",
      "name": "python"
    },
    "language_info": {
      "codemirror_mode": {
        "name": "python",
        "version": 3
      },
      "file_extension": ".py",
      "mimetype": "text/x-python",
      "name": "python",
      "nbconvert_exporter": "python",
      "pygments_lexer": "ipython3",
      "version": "3.8"
    }
  },
  "nbformat": 4,
  "nbformat_minor": 4
}
